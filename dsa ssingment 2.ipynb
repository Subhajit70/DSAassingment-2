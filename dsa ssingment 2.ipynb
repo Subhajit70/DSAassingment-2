{
 "cells": [
  {
   "cell_type": "code",
   "execution_count": 1,
   "id": "bc93d166-161b-478c-abf1-40ed3e0fdfc0",
   "metadata": {},
   "outputs": [
    {
     "data": {
      "text/plain": [
       "'The Tower of Hanoi is a mathematical puzzle that involves moving a stack of disks from one rod to another, following some rules:\\n\\nThere are three rods, labeled as A, B, and C.\\nThere are n disks of different sizes, labeled as 1, 2, …, n, where 1 is the smallest and n is the largest.\\nThe disks are initially stacked on rod A in decreasing order of size, with the largest disk at the bottom and the smallest disk at the top.\\nThe goal is to move all the disks from rod A to rod C, using rod B as an auxiliary rod.\\nOnly one disk can be moved at a time, and it must be the top disk of a rod.\\nA larger disk cannot be placed on top of a smaller disk.\\nThe logic of the Tower of Hanoi algorithm is based on recursion, which is a technique of solving a problem by breaking it down into smaller subproblems of the same type. The idea is to move the top n-1 disks from rod A to rod B, using rod C as an auxiliary rod, then move the largest disk from rod A to rod C, and finally move the n-1 disks from rod B to rod C, using rod A as an auxiliary rod. This process can be repeated for any number of disks, as long as the rules are followed.\\n\\nThe following is a Java program that implements the Tower of Hanoi algorithm, using a recursive method called move that takes four parameters: the number of disks to move, the source rod, the destination rod, and the auxiliary rod. The method prints the movements of disks between rods, and returns the number of steps required to solve the puzzle.'"
      ]
     },
     "execution_count": 1,
     "metadata": {},
     "output_type": "execute_result"
    }
   ],
   "source": [
    "#Q.1 Can you explain the logic and working of the Tower of Hanoi algorithm by writing a Java program? How does the recursion work, and how are the movements of disks between rods accomplished?\n",
    "\n",
    "\n",
    "\"\"\"The Tower of Hanoi is a mathematical puzzle that involves moving a stack of disks from one rod to another, following some rules:\n",
    "\n",
    "There are three rods, labeled as A, B, and C.\n",
    "There are n disks of different sizes, labeled as 1, 2, …, n, where 1 is the smallest and n is the largest.\n",
    "The disks are initially stacked on rod A in decreasing order of size, with the largest disk at the bottom and the smallest disk at the top.\n",
    "The goal is to move all the disks from rod A to rod C, using rod B as an auxiliary rod.\n",
    "Only one disk can be moved at a time, and it must be the top disk of a rod.\n",
    "A larger disk cannot be placed on top of a smaller disk.\n",
    "The logic of the Tower of Hanoi algorithm is based on recursion, which is a technique of solving a problem by breaking it down into smaller subproblems of the same type. The idea is to move the top n-1 disks from rod A to rod B, using rod C as an auxiliary rod, then move the largest disk from rod A to rod C, and finally move the n-1 disks from rod B to rod C, using rod A as an auxiliary rod. This process can be repeated for any number of disks, as long as the rules are followed.\n",
    "\n",
    "The following is a Java program that implements the Tower of Hanoi algorithm, using a recursive method called move that takes four parameters: the number of disks to move, the source rod, the destination rod, and the auxiliary rod. The method prints the movements of disks between rods, and returns the number of steps required to solve the puzzle.\"\"\"\n",
    "\n"
   ]
  },
  {
   "cell_type": "code",
   "execution_count": 2,
   "id": "22e7ae35-dc7b-43a9-ab0a-d8504f4602c0",
   "metadata": {},
   "outputs": [
    {
     "name": "stdout",
     "output_type": "stream",
     "text": [
      "3\n"
     ]
    }
   ],
   "source": [
    "#2 Q.2 Given two strings word1 and word2, return the minimum number of operations required to convert word1 to word2.\n",
    "\n",
    "\n",
    "# Define a function to calculate the edit distance between two strings\n",
    "def edit_distance(word1, word2):\n",
    "  # Get the lengths of the strings\n",
    "  m = len(word1)\n",
    "  n = len(word2)\n",
    "\n",
    "  # Create a 2D array to store the subproblem solutions\n",
    "  dp = [[0 for x in range(n + 1)] for x in range(m + 1)]\n",
    "\n",
    "  # Fill the first row and column with the base cases\n",
    "  for i in range(m + 1):\n",
    "    dp[i][0] = i # The cost of deleting i characters from word1\n",
    "  for j in range(n + 1):\n",
    "    dp[0][j] = j # The cost of inserting j characters to word1\n",
    "\n",
    "  # Fill the rest of the array using the recurrence relation\n",
    "  for i in range(1, m + 1):\n",
    "    for j in range(1, n + 1):\n",
    "      # If the last characters are the same, no operation is needed\n",
    "      if word1[i - 1] == word2[j - 1]:\n",
    "        dp[i][j] = dp[i - 1][j - 1]\n",
    "      # Otherwise, choose the minimum of the three possible operations\n",
    "      else:\n",
    "        dp[i][j] = 1 + min(dp[i - 1][j], # Delete the last character of word1\n",
    "                           dp[i][j - 1], # Insert the last character of word2\n",
    "                           dp[i - 1][j - 1]) # Replace the last character of word1 with word2\n",
    "  # Return the final answer\n",
    "  return dp[m][n]\n",
    "\n",
    "# Test the function with the given example\n",
    "word1 = \"horse\"\n",
    "word2 = \"ros\"\n",
    "print(edit_distance(word1, word2))\n",
    "\n"
   ]
  },
  {
   "cell_type": "code",
   "execution_count": 3,
   "id": "8af7548d-daf7-4676-b9d1-eb737708973c",
   "metadata": {},
   "outputs": [
    {
     "name": "stdout",
     "output_type": "stream",
     "text": [
      "22\n"
     ]
    }
   ],
   "source": [
    "#3 Print the max value of the array [ 13, 1, -3, 22, 5].\n",
    "\n",
    "\n",
    "# Define the array\n",
    "arr = [13, 1, -3, 22, 5]\n",
    "\n",
    "# Find the max value using the built-in max function\n",
    "max_value = max(arr)\n",
    "\n",
    "# Print the max value\n",
    "print(max_value)\n"
   ]
  },
  {
   "cell_type": "code",
   "execution_count": 4,
   "id": "85bfaa93-2137-4b7d-afed-855aae201d1b",
   "metadata": {},
   "outputs": [
    {
     "name": "stdout",
     "output_type": "stream",
     "text": [
      "120\n"
     ]
    }
   ],
   "source": [
    "#.4 Find the sum of the values of the array [92, 23, 15, -20, 10]. python\n",
    "\n",
    "# Define an array\n",
    "array = [92, 23, 15, -20, 10]\n",
    "\n",
    "# Initialize a variable to store the sum\n",
    "sum = 0\n",
    "\n",
    "# Loop through the array and add each element to the sum\n",
    "for element in array:\n",
    "    sum = sum + element\n",
    "\n",
    "# Print the sum\n",
    "print(sum)\n",
    "\n"
   ]
  },
  {
   "cell_type": "code",
   "execution_count": 5,
   "id": "18a1bdef-1d0b-4bf0-b235-7bb3fef3ad9b",
   "metadata": {},
   "outputs": [
    {
     "name": "stdin",
     "output_type": "stream",
     "text": [
      "Enter a number:  67\n"
     ]
    },
    {
     "name": "stdout",
     "output_type": "stream",
     "text": [
      "67 is not an armstrong number\n"
     ]
    }
   ],
   "source": [
    "#.5 Given a number n. Print if it is an armstrong number or not.An armstrong number is a number if the sum of every digit in that number raised to the power of total digits in that number is equal to the number.\n",
    "\n",
    "# Q.5 Given a number n. Print if it is an armstrong number or not.\n",
    "# An armstrong number is a number if the sum of every digit in that number raised to the power of total digits in that number is equal to the number.\n",
    "# Example : 153 = 1^3 + 5^3 + 3^3 = 1 + 125 + 27 = 153\n",
    "\n",
    "# Input the number n\n",
    "n = int(input(\"Enter a number: \"))\n",
    "\n",
    "# Initialize the sum variable\n",
    "sum = 0\n",
    "\n",
    "# Convert the number to a string and get the length\n",
    "num_str = str(n)\n",
    "length = len(num_str)\n",
    "\n",
    "# Loop through each digit of the number\n",
    "for digit in num_str:\n",
    "    # Convert the digit to an integer\n",
    "    digit = int(digit)\n",
    "    # Add the digit raised to the power of length to the sum\n",
    "    sum += digit ** length\n",
    "\n",
    "# Check if the sum is equal to the number\n",
    "if sum == n:\n",
    "    # Print that the number is an armstrong number\n",
    "    print(n, \"is an armstrong number\")\n",
    "else:\n",
    "    # Print that the number is not an armstrong number\n",
    "    print(n, \"is not an armstrong number\")\n",
    "\n"
   ]
  },
  {
   "cell_type": "code",
   "execution_count": null,
   "id": "5646c4f4-6669-45ad-a639-f4cb4c4987c2",
   "metadata": {},
   "outputs": [],
   "source": []
  }
 ],
 "metadata": {
  "kernelspec": {
   "display_name": "Python 3 (ipykernel)",
   "language": "python",
   "name": "python3"
  },
  "language_info": {
   "codemirror_mode": {
    "name": "ipython",
    "version": 3
   },
   "file_extension": ".py",
   "mimetype": "text/x-python",
   "name": "python",
   "nbconvert_exporter": "python",
   "pygments_lexer": "ipython3",
   "version": "3.10.8"
  }
 },
 "nbformat": 4,
 "nbformat_minor": 5
}
